{
 "cells": [
  {
   "cell_type": "markdown",
   "metadata": {},
   "source": [
    "### Import libs"
   ]
  },
  {
   "cell_type": "code",
   "execution_count": 1,
   "metadata": {},
   "outputs": [],
   "source": [
    "import warnings\n",
    "import math\n",
    "import numpy as np\n",
    "import pandas as pd\n",
    "import matplotlib.pyplot as plt\n",
    "import matplotlib.dates as mdates\n",
    "%matplotlib inline\n",
    "\n",
    "from sklearn.svm import SVR\n",
    "from sklearn.ensemble import RandomForestRegressor\n",
    "\n",
    "from sklearn.model_selection import train_test_split, cross_val_predict, GridSearchCV\n",
    "from sklearn.metrics import mean_squared_error, mean_absolute_error\n",
    "\n",
    "warnings.filterwarnings('ignore')"
   ]
  },
  {
   "cell_type": "markdown",
   "metadata": {},
   "source": [
    "### Tickers\n",
    "\n",
    "AAPL : Apple\n",
    "\n",
    "TSLA : Tesla\n",
    "\n",
    "JNJ : Johnson & Johnson"
   ]
  },
  {
   "cell_type": "code",
   "execution_count": 2,
   "metadata": {},
   "outputs": [],
   "source": [
    "ticker = 'TSLA'"
   ]
  },
  {
   "cell_type": "markdown",
   "metadata": {},
   "source": [
    "### Models\n",
    "\n",
    "SVM\n",
    "\n",
    "RF"
   ]
  },
  {
   "cell_type": "code",
   "execution_count": 3,
   "metadata": {},
   "outputs": [],
   "source": [
    "model = 'SVM'"
   ]
  },
  {
   "cell_type": "code",
   "execution_count": 4,
   "metadata": {},
   "outputs": [],
   "source": [
    "df = pd.read_csv('./data_clean/' + ticker + '.csv')\n",
    "df = df.sort_values('date')\n",
    "df = df.drop(['open','high','low','close','volume'], axis=1)\n",
    "\n",
    "df = df.query('date <= \"2019-10-01\"')\n",
    "df = df.reset_index(drop=True)"
   ]
  },
  {
   "cell_type": "code",
   "execution_count": 5,
   "metadata": {},
   "outputs": [],
   "source": [
    "df['avg_close'] = 0.0\n",
    "df['sentiment'] = 0.0"
   ]
  },
  {
   "cell_type": "markdown",
   "metadata": {},
   "source": [
    "### Create average close price feature\n",
    "Average is based on [up to] the previous 5 days (not including the current day)"
   ]
  },
  {
   "cell_type": "code",
   "execution_count": 6,
   "metadata": {},
   "outputs": [],
   "source": [
    "days = 5\n",
    "\n",
    "for i, _ in df.iterrows():\n",
    "    if i:\n",
    "        df['avg_close'][i] = sum(df['adj close'][i - k] for k in range(1, i + 1 if i < (days + 1) else (days + 1))) / (i if i < (days + 1) else days)"
   ]
  },
  {
   "cell_type": "markdown",
   "metadata": {},
   "source": [
    "### Add sentiment feature\n",
    "Note that the sentiments were pre-computed and stored in a CSV"
   ]
  },
  {
   "cell_type": "code",
   "execution_count": 7,
   "metadata": {},
   "outputs": [],
   "source": [
    "sent_df = pd.read_csv('news_sentiments.csv')\n",
    "sent_df = sent_df.loc[sent_df['ticker'] == ticker]"
   ]
  },
  {
   "cell_type": "code",
   "execution_count": 8,
   "metadata": {},
   "outputs": [],
   "source": [
    "for i, _ in df.iterrows():\n",
    "    s = sent_df.loc[sent_df['release_date'] == df['date'][i]]['sentiment']\n",
    "    df['sentiment'][i] = s.iloc[0] if len(s) else 0.0"
   ]
  },
  {
   "cell_type": "markdown",
   "metadata": {},
   "source": [
    "### Check data"
   ]
  },
  {
   "cell_type": "code",
   "execution_count": 9,
   "metadata": {},
   "outputs": [
    {
     "data": {
      "text/html": [
       "<div>\n",
       "<style scoped>\n",
       "    .dataframe tbody tr th:only-of-type {\n",
       "        vertical-align: middle;\n",
       "    }\n",
       "\n",
       "    .dataframe tbody tr th {\n",
       "        vertical-align: top;\n",
       "    }\n",
       "\n",
       "    .dataframe thead th {\n",
       "        text-align: right;\n",
       "    }\n",
       "</style>\n",
       "<table border=\"1\" class=\"dataframe\">\n",
       "  <thead>\n",
       "    <tr style=\"text-align: right;\">\n",
       "      <th></th>\n",
       "      <th>date</th>\n",
       "      <th>adj close</th>\n",
       "      <th>avg_close</th>\n",
       "      <th>sentiment</th>\n",
       "    </tr>\n",
       "  </thead>\n",
       "  <tbody>\n",
       "    <tr>\n",
       "      <th>0</th>\n",
       "      <td>2015-01-02</td>\n",
       "      <td>219.309998</td>\n",
       "      <td>0.000000</td>\n",
       "      <td>1.037691</td>\n",
       "    </tr>\n",
       "    <tr>\n",
       "      <th>1</th>\n",
       "      <td>2015-01-05</td>\n",
       "      <td>210.089996</td>\n",
       "      <td>219.309998</td>\n",
       "      <td>0.000000</td>\n",
       "    </tr>\n",
       "    <tr>\n",
       "      <th>2</th>\n",
       "      <td>2015-01-06</td>\n",
       "      <td>211.279999</td>\n",
       "      <td>214.699997</td>\n",
       "      <td>-0.348619</td>\n",
       "    </tr>\n",
       "    <tr>\n",
       "      <th>3</th>\n",
       "      <td>2015-01-07</td>\n",
       "      <td>210.949997</td>\n",
       "      <td>213.559998</td>\n",
       "      <td>0.000000</td>\n",
       "    </tr>\n",
       "    <tr>\n",
       "      <th>4</th>\n",
       "      <td>2015-01-08</td>\n",
       "      <td>210.619995</td>\n",
       "      <td>212.907497</td>\n",
       "      <td>0.000000</td>\n",
       "    </tr>\n",
       "    <tr>\n",
       "      <th>5</th>\n",
       "      <td>2015-01-09</td>\n",
       "      <td>206.660004</td>\n",
       "      <td>212.449997</td>\n",
       "      <td>0.000000</td>\n",
       "    </tr>\n",
       "    <tr>\n",
       "      <th>6</th>\n",
       "      <td>2015-01-12</td>\n",
       "      <td>202.210007</td>\n",
       "      <td>209.919998</td>\n",
       "      <td>-0.504733</td>\n",
       "    </tr>\n",
       "    <tr>\n",
       "      <th>7</th>\n",
       "      <td>2015-01-13</td>\n",
       "      <td>204.250000</td>\n",
       "      <td>208.344000</td>\n",
       "      <td>6.817859</td>\n",
       "    </tr>\n",
       "    <tr>\n",
       "      <th>8</th>\n",
       "      <td>2015-01-14</td>\n",
       "      <td>192.690002</td>\n",
       "      <td>206.938000</td>\n",
       "      <td>0.117636</td>\n",
       "    </tr>\n",
       "    <tr>\n",
       "      <th>9</th>\n",
       "      <td>2015-01-15</td>\n",
       "      <td>191.869995</td>\n",
       "      <td>203.286002</td>\n",
       "      <td>0.000000</td>\n",
       "    </tr>\n",
       "    <tr>\n",
       "      <th>10</th>\n",
       "      <td>2015-01-16</td>\n",
       "      <td>193.070007</td>\n",
       "      <td>199.536002</td>\n",
       "      <td>0.000000</td>\n",
       "    </tr>\n",
       "    <tr>\n",
       "      <th>11</th>\n",
       "      <td>2015-01-20</td>\n",
       "      <td>191.929993</td>\n",
       "      <td>196.818002</td>\n",
       "      <td>0.000000</td>\n",
       "    </tr>\n",
       "    <tr>\n",
       "      <th>12</th>\n",
       "      <td>2015-01-21</td>\n",
       "      <td>196.570007</td>\n",
       "      <td>194.762000</td>\n",
       "      <td>0.000000</td>\n",
       "    </tr>\n",
       "    <tr>\n",
       "      <th>13</th>\n",
       "      <td>2015-01-22</td>\n",
       "      <td>201.619995</td>\n",
       "      <td>193.226001</td>\n",
       "      <td>1.268311</td>\n",
       "    </tr>\n",
       "    <tr>\n",
       "      <th>14</th>\n",
       "      <td>2015-01-23</td>\n",
       "      <td>201.289993</td>\n",
       "      <td>195.012000</td>\n",
       "      <td>0.000000</td>\n",
       "    </tr>\n",
       "  </tbody>\n",
       "</table>\n",
       "</div>"
      ],
      "text/plain": [
       "          date   adj close   avg_close  sentiment\n",
       "0   2015-01-02  219.309998    0.000000   1.037691\n",
       "1   2015-01-05  210.089996  219.309998   0.000000\n",
       "2   2015-01-06  211.279999  214.699997  -0.348619\n",
       "3   2015-01-07  210.949997  213.559998   0.000000\n",
       "4   2015-01-08  210.619995  212.907497   0.000000\n",
       "5   2015-01-09  206.660004  212.449997   0.000000\n",
       "6   2015-01-12  202.210007  209.919998  -0.504733\n",
       "7   2015-01-13  204.250000  208.344000   6.817859\n",
       "8   2015-01-14  192.690002  206.938000   0.117636\n",
       "9   2015-01-15  191.869995  203.286002   0.000000\n",
       "10  2015-01-16  193.070007  199.536002   0.000000\n",
       "11  2015-01-20  191.929993  196.818002   0.000000\n",
       "12  2015-01-21  196.570007  194.762000   0.000000\n",
       "13  2015-01-22  201.619995  193.226001   1.268311\n",
       "14  2015-01-23  201.289993  195.012000   0.000000"
      ]
     },
     "execution_count": 9,
     "metadata": {},
     "output_type": "execute_result"
    }
   ],
   "source": [
    "df.head(n=15)"
   ]
  },
  {
   "cell_type": "code",
   "execution_count": 10,
   "metadata": {},
   "outputs": [
    {
     "data": {
      "text/html": [
       "<div>\n",
       "<style scoped>\n",
       "    .dataframe tbody tr th:only-of-type {\n",
       "        vertical-align: middle;\n",
       "    }\n",
       "\n",
       "    .dataframe tbody tr th {\n",
       "        vertical-align: top;\n",
       "    }\n",
       "\n",
       "    .dataframe thead th {\n",
       "        text-align: right;\n",
       "    }\n",
       "</style>\n",
       "<table border=\"1\" class=\"dataframe\">\n",
       "  <thead>\n",
       "    <tr style=\"text-align: right;\">\n",
       "      <th></th>\n",
       "      <th>adj close</th>\n",
       "      <th>avg_close</th>\n",
       "      <th>sentiment</th>\n",
       "    </tr>\n",
       "  </thead>\n",
       "  <tbody>\n",
       "    <tr>\n",
       "      <th>count</th>\n",
       "      <td>1195.000000</td>\n",
       "      <td>1195.000000</td>\n",
       "      <td>1195.000000</td>\n",
       "    </tr>\n",
       "    <tr>\n",
       "      <th>mean</th>\n",
       "      <td>265.875222</td>\n",
       "      <td>265.629904</td>\n",
       "      <td>0.100961</td>\n",
       "    </tr>\n",
       "    <tr>\n",
       "      <th>std</th>\n",
       "      <td>54.546312</td>\n",
       "      <td>54.686897</td>\n",
       "      <td>0.820522</td>\n",
       "    </tr>\n",
       "    <tr>\n",
       "      <th>min</th>\n",
       "      <td>143.669998</td>\n",
       "      <td>0.000000</td>\n",
       "      <td>-8.286661</td>\n",
       "    </tr>\n",
       "    <tr>\n",
       "      <th>25%</th>\n",
       "      <td>219.614998</td>\n",
       "      <td>220.328999</td>\n",
       "      <td>-0.122139</td>\n",
       "    </tr>\n",
       "    <tr>\n",
       "      <th>50%</th>\n",
       "      <td>254.860001</td>\n",
       "      <td>253.546002</td>\n",
       "      <td>0.000000</td>\n",
       "    </tr>\n",
       "    <tr>\n",
       "      <th>75%</th>\n",
       "      <td>312.720001</td>\n",
       "      <td>314.073999</td>\n",
       "      <td>0.129306</td>\n",
       "    </tr>\n",
       "    <tr>\n",
       "      <th>max</th>\n",
       "      <td>385.000000</td>\n",
       "      <td>378.437994</td>\n",
       "      <td>10.357318</td>\n",
       "    </tr>\n",
       "  </tbody>\n",
       "</table>\n",
       "</div>"
      ],
      "text/plain": [
       "         adj close    avg_close    sentiment\n",
       "count  1195.000000  1195.000000  1195.000000\n",
       "mean    265.875222   265.629904     0.100961\n",
       "std      54.546312    54.686897     0.820522\n",
       "min     143.669998     0.000000    -8.286661\n",
       "25%     219.614998   220.328999    -0.122139\n",
       "50%     254.860001   253.546002     0.000000\n",
       "75%     312.720001   314.073999     0.129306\n",
       "max     385.000000   378.437994    10.357318"
      ]
     },
     "execution_count": 10,
     "metadata": {},
     "output_type": "execute_result"
    }
   ],
   "source": [
    "df.describe()"
   ]
  },
  {
   "cell_type": "code",
   "execution_count": 11,
   "metadata": {},
   "outputs": [
    {
     "name": "stdout",
     "output_type": "stream",
     "text": [
      "Dimension of data: (1195, 4)\n"
     ]
    }
   ],
   "source": [
    "print('Dimension of data:', df.shape)"
   ]
  },
  {
   "cell_type": "markdown",
   "metadata": {},
   "source": [
    "### Plot Data"
   ]
  },
  {
   "cell_type": "code",
   "execution_count": 12,
   "metadata": {
    "scrolled": false
   },
   "outputs": [
    {
     "data": {
      "image/png": "[encoded data removed]",
      "text/plain": [
       "<Figure size 864x432 with 1 Axes>"
      ]
     },
     "metadata": {
      "needs_background": "light"
     },
     "output_type": "display_data"
    }
   ],
   "source": [
    "def plotStocks(data, dates, xticks, legend=False):\n",
    "    plt.figure(figsize=(12,6))\n",
    "    for datum in data:\n",
    "        plt.plot(datum[0], datum[1], **datum[2])\n",
    "    plt.xlabel('Date', fontsize=15)\n",
    "    plt.ylabel('Average Close Price', fontsize=15)\n",
    "    plt.xticks(np.arange(0, len(dates), xticks))\n",
    "    plt.legend() if legend else None\n",
    "    plt.show()\n",
    "\n",
    "stock_data = [(df['date'], df['adj close'], {})]\n",
    "plotStocks(stock_data, df['date'], 150)"
   ]
  },
  {
   "cell_type": "markdown",
   "metadata": {},
   "source": [
    "### Create feature set and target vector"
   ]
  },
  {
   "cell_type": "code",
   "execution_count": 13,
   "metadata": {},
   "outputs": [
    {
     "name": "stdout",
     "output_type": "stream",
     "text": [
      "Dimension of feature matrix: (1195, 3)\n",
      "Dimension of target vector: (1195,)\n"
     ]
    }
   ],
   "source": [
    "X = df.drop(labels=['adj close'], axis=1)\n",
    "y = df['adj close']\n",
    "\n",
    "print('Dimension of feature matrix:', X.shape)\n",
    "print('Dimension of target vector:', y.shape)"
   ]
  },
  {
   "cell_type": "markdown",
   "metadata": {},
   "source": [
    "### Create test and train datasets"
   ]
  },
  {
   "cell_type": "code",
   "execution_count": 14,
   "metadata": {},
   "outputs": [],
   "source": [
    "X_train, X_test, y_train, y_test = train_test_split(X, y, test_size=0.2, shuffle=False)\n",
    "\n",
    "dates = X_test['date']\n",
    "\n",
    "X_train = X_train.drop(labels=['date'], axis=1)\n",
    "X_test = X_test.drop(labels=['date'], axis=1)"
   ]
  },
  {
   "cell_type": "markdown",
   "metadata": {},
   "source": [
    "### Train Model"
   ]
  },
  {
   "cell_type": "markdown",
   "metadata": {},
   "source": [
    "#### SVM regression"
   ]
  },
  {
   "cell_type": "code",
   "execution_count": null,
   "metadata": {},
   "outputs": [
    {
     "name": "stdout",
     "output_type": "stream",
     "text": [
      "Fitting 5 folds for each of 144 candidates, totalling 720 fits\n",
      "[CV] C=1, coef0=0.01, degree=3, gamma=auto, kernel=linear ............\n"
     ]
    },
    {
     "name": "stderr",
     "output_type": "stream",
     "text": [
      "[Parallel(n_jobs=1)]: Using backend SequentialBackend with 1 concurrent workers.\n"
     ]
    },
    {
     "name": "stdout",
     "output_type": "stream",
     "text": [
      "[CV]  C=1, coef0=0.01, degree=3, gamma=auto, kernel=linear, score=0.558, total=   0.6s\n",
      "[CV] C=1, coef0=0.01, degree=3, gamma=auto, kernel=linear ............\n"
     ]
    },
    {
     "name": "stderr",
     "output_type": "stream",
     "text": [
      "[Parallel(n_jobs=1)]: Done   1 out of   1 | elapsed:    0.6s remaining:    0.0s\n"
     ]
    },
    {
     "name": "stdout",
     "output_type": "stream",
     "text": [
      "[CV]  C=1, coef0=0.01, degree=3, gamma=auto, kernel=linear, score=0.812, total=   0.7s\n",
      "[CV] C=1, coef0=0.01, degree=3, gamma=auto, kernel=linear ............\n"
     ]
    },
    {
     "name": "stderr",
     "output_type": "stream",
     "text": [
      "[Parallel(n_jobs=1)]: Done   2 out of   2 | elapsed:    1.2s remaining:    0.0s\n"
     ]
    },
    {
     "name": "stdout",
     "output_type": "stream",
     "text": [
      "[CV]  C=1, coef0=0.01, degree=3, gamma=auto, kernel=linear, score=0.949, total=   0.5s\n",
      "[CV] C=1, coef0=0.01, degree=3, gamma=auto, kernel=linear ............\n"
     ]
    },
    {
     "name": "stderr",
     "output_type": "stream",
     "text": [
      "[Parallel(n_jobs=1)]: Done   3 out of   3 | elapsed:    1.8s remaining:    0.0s\n"
     ]
    },
    {
     "name": "stdout",
     "output_type": "stream",
     "text": [
      "[CV]  C=1, coef0=0.01, degree=3, gamma=auto, kernel=linear, score=0.733, total=   0.6s\n",
      "[CV] C=1, coef0=0.01, degree=3, gamma=auto, kernel=linear ............\n"
     ]
    },
    {
     "name": "stderr",
     "output_type": "stream",
     "text": [
      "[Parallel(n_jobs=1)]: Done   4 out of   4 | elapsed:    2.4s remaining:    0.0s\n"
     ]
    },
    {
     "name": "stdout",
     "output_type": "stream",
     "text": [
      "[CV]  C=1, coef0=0.01, degree=3, gamma=auto, kernel=linear, score=0.692, total=   0.7s\n",
      "[CV] C=1, coef0=0.01, degree=3, gamma=auto, kernel=poly ..............\n"
     ]
    },
    {
     "name": "stderr",
     "output_type": "stream",
     "text": [
      "[Parallel(n_jobs=1)]: Done   5 out of   5 | elapsed:    3.1s remaining:    0.0s\n"
     ]
    }
   ],
   "source": [
    "# SVM hyperparameter tuning\n",
    "# param_grid = {'kernel': ('linear','poly','rbf','sigmoid'),\n",
    "#               'C': [1,5,10],\n",
    "#               'degree': [3,8],\n",
    "#               'coef0': [0.01,10,0.5],\n",
    "#               'gamma': ('auto','scale')}\n",
    "# svr = SVR()\n",
    "# grids = GridSearchCV(svr, param_grid, cv=5, verbose=10)\n",
    "# grids.fit(X_train, y_train)\n",
    "# params_optimal = grids.best_params_\n",
    "\n",
    "# svr = SVR(params_optimal)\n",
    "# y_pred = svr.fit(X_train, y_train).predict(X_test)\n",
    "# svm_confidence = svr.score(X_test, y_test)\n",
    "# print('SVM Confidence:', svm_confidence)\n",
    "\n",
    "if model == 'SVM':\n",
    "    svr = SVR(kernel='rbf', C=1e3, gamma=0.1)\n",
    "    y_pred = svr.fit(X_train, y_train).predict(X_test)\n",
    "    svm_confidence = svr.score(X_test, y_test)\n",
    "    print('SVM Confidence:', svm_confidence)"
   ]
  },
  {
   "cell_type": "markdown",
   "metadata": {},
   "source": [
    "#### Random forests regression"
   ]
  },
  {
   "cell_type": "code",
   "execution_count": null,
   "metadata": {},
   "outputs": [],
   "source": [
    "if model == 'RF':\n",
    "    reg = RandomForestRegressor()\n",
    "    y_pred = reg.fit(X_train, y_train).predict(X_test)"
   ]
  },
  {
   "cell_type": "code",
   "execution_count": null,
   "metadata": {},
   "outputs": [],
   "source": [
    "stock_data = [(df['date'], df['adj close'], {'color': 'green', 'label': 'Data'}),\n",
    "              (dates, y_pred, {'color': 'red', 'label': 'Predicted'})]\n",
    "plotStocks(stock_data, df['date'], 150, True)"
   ]
  },
  {
   "cell_type": "code",
   "execution_count": null,
   "metadata": {},
   "outputs": [],
   "source": [
    "stock_data = [(dates, y_test, {'color': 'green', 'label': 'Data'}),\n",
    "              (dates, y_pred, {'color': 'red', 'label': 'Predicted'})]\n",
    "plotStocks(stock_data, dates, 50, True)"
   ]
  },
  {
   "cell_type": "code",
   "execution_count": null,
   "metadata": {},
   "outputs": [],
   "source": [
    "# reg = RandomForestRegressor()\n",
    "\n",
    "# n = len(X_test)\n",
    "# to_pred = pd.DataFrame(data=[[0,0.0,0.0]], columns=['sentiment', 'avg_close'])\n",
    "# y_pred = np.array([])\n",
    "\n",
    "# data = X_train.copy(deep=True)\n",
    "# prices = y_train.copy(deep=True).to_numpy()\n",
    "\n",
    "# def prepNextInstance(to_pred, prices, l):\n",
    "#     to_pred['sentiment'][0] = 1 if prices[l - 1] > prices[l - 2] else -1\n",
    "#     to_pred['avg_close'][0] = prices[l - 1] / prices[l - 2]\n",
    "#     to_pred['avg_close'][0] = sum(prices[i] for i in range(l - 5, l)) / 5\n",
    "\n",
    "# for _ in range(n):\n",
    "#     prepNextInstance(to_pred, prices, len(prices))\n",
    "#     val = reg.fit(data, prices).predict(to_pred)\n",
    "#     data = data.append(to_pred)\n",
    "#     y_pred = np.append(y_pred, val)\n",
    "#     prices = np.append(prices, val)"
   ]
  },
  {
   "cell_type": "code",
   "execution_count": null,
   "metadata": {},
   "outputs": [],
   "source": [
    "# stock_data = [(dates, y_test, {'color': 'green', 'label': 'Data'}),\n",
    "#               (dates, y_pred, {'color': 'red', 'label': 'Predicted'})]\n",
    "# plotStocks(stock_data, dates, 50, True)"
   ]
  },
  {
   "cell_type": "markdown",
   "metadata": {},
   "source": [
    "### Evaluate Model"
   ]
  },
  {
   "cell_type": "code",
   "execution_count": null,
   "metadata": {},
   "outputs": [],
   "source": [
    "err = mean_squared_error(y_test, y_pred)\n",
    "print(err)"
   ]
  },
  {
   "cell_type": "code",
   "execution_count": null,
   "metadata": {},
   "outputs": [],
   "source": [
    "err = mean_absolute_error(y_test, y_pred)\n",
    "print(err)"
   ]
  },
  {
   "cell_type": "code",
   "execution_count": null,
   "metadata": {},
   "outputs": [],
   "source": []
  }
 ],
 "metadata": {
  "kernelspec": {
   "display_name": "Python 3",
   "language": "python",
   "name": "python3"
  },
  "language_info": {
   "codemirror_mode": {
    "name": "ipython",
    "version": 3
   },
   "file_extension": ".py",
   "mimetype": "text/x-python",
   "name": "python",
   "nbconvert_exporter": "python",
   "pygments_lexer": "ipython3",
   "version": "3.8.2"
  }
 },
 "nbformat": 4,
 "nbformat_minor": 4
}
